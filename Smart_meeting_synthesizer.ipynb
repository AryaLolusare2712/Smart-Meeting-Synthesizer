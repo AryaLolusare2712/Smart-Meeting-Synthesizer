{
 "cells": [
  {
   "cell_type": "code",
   "execution_count": 1,
   "id": "10ad0a17-4a81-41dd-a57d-3700d68e6b31",
   "metadata": {},
   "outputs": [
    {
     "name": "stderr",
     "output_type": "stream",
     "text": [
      "C:\\Users\\aryal\\anaconda\\envs\\llms\\Lib\\site-packages\\pyannote\\audio\\core\\io.py:212: UserWarning: torchaudio._backend.list_audio_backends has been deprecated. This deprecation is part of a large refactoring effort to transition TorchAudio into a maintenance phase. The decoding and encoding capabilities of PyTorch for both audio and video are being consolidated into TorchCodec. Please see https://github.com/pytorch/audio/issues/3902 for more information. It will be removed from the 2.9 release. \n",
      "  torchaudio.list_audio_backends()\n"
     ]
    }
   ],
   "source": [
    "import whisper\n",
    "from pyannote.audio import Pipeline\n",
    "import gradio as gr\n",
    "import networkx as nx\n",
    "import json\n",
    "import os\n",
    "from dotenv import load_dotenv\n",
    "import google.generativeai as genai"
   ]
  },
  {
   "cell_type": "code",
   "execution_count": null,
   "id": "1e70da39-51c7-4d3d-8bd1-1b98141254ae",
   "metadata": {},
   "outputs": [],
   "source": [
    "whisper_model = whisper.load_model(\"medium\")\n",
    "diarization_pipeline = Pipeline.from_pretrained(\"pyannote/speaker-diarization\")\n",
    "load_dotenv()\n",
    "GOOGLE_API_KEY = os.getenv(\"GOOGLE_API_KEY\")\n",
    "genai.configure(api_key=GOOGLE_API_KEY)\n",
    "gemini_model = genai.GenerativeModel(\"gemini-1.5-flash\")"
   ]
  },
  {
   "cell_type": "code",
   "execution_count": null,
   "id": "d4dc266d-f998-49c9-be8c-42c3fcede9c1",
   "metadata": {},
   "outputs": [],
   "source": [
    "def transcribe_audio(audio_path):\n",
    "    result = whisper_model.transcribe(audio_path)\n",
    "    return result['text']"
   ]
  },
  {
   "cell_type": "code",
   "execution_count": null,
   "id": "4345c470-af56-48c2-ae90-bd35c99b0317",
   "metadata": {},
   "outputs": [],
   "source": [
    "def diarize_audio(audio_path):\n",
    "    diarization = diarization_pipeline(audio_path)\n",
    "    speakers = []\n",
    "    for turn, _, speaker in diarization.itertracks(yield_label=True):\n",
    "        speakers.append({\n",
    "            \"start\": turn.start,\n",
    "            \"end\": turn.end,\n",
    "            \"speaker\": speaker\n",
    "        })\n",
    "    return speakers"
   ]
  },
  {
   "cell_type": "code",
   "execution_count": null,
   "id": "28cbb6ad-0cb1-49a5-8a50-9272a85ac59c",
   "metadata": {},
   "outputs": [],
   "source": [
    "def extract_decisions_actions(transcript):\n",
    "    prompt = f\"\"\"\n",
    "    Extract all decisions and action items from the following meeting transcript:\n",
    "    {transcript}\n",
    "    Provide a JSON with keys: \"decisions\" and \"action_items\".\n",
    "    \"\"\"\n",
    "    response = client.chat.completions.create(\n",
    "        messages=[{\"role\": \"user\", \"content\": prompt}],\n",
    "        temperature=0\n",
    "    )\n",
    "    return response.choices[0].message.content"
   ]
  },
  {
   "cell_type": "code",
   "execution_count": null,
   "id": "912c1d02-667d-4dc5-bbae-8bc6aadd424f",
   "metadata": {},
   "outputs": [],
   "source": [
    "def build_cytoscape_elements(data):\n",
    "    elements = []\n",
    "    # Add decision nodes\n",
    "    for i, decision in enumerate(data.get(\"decisions\", [])):\n",
    "        elements.append({\n",
    "            'data': {'id': f\"decision_{i}\", 'label': decision, 'type': 'decision'}\n",
    "        })\n",
    "    # Add action nodes and edges\n",
    "    for j, action in enumerate(data.get(\"action_items\", [])):\n",
    "        elements.append({\n",
    "            'data': {'id': f\"action_{j}\", 'label': action, 'type': 'action_item'}\n",
    "        })\n",
    "        # Link to first decision (for simplicity)\n",
    "        if data.get(\"decisions\"):\n",
    "            elements.append({\n",
    "                'data': {\n",
    "                    'source': f\"decision_0\",\n",
    "                    'target': f\"action_{j}\"\n",
    "                }\n",
    "            })\n",
    "    return elements"
   ]
  },
  {
   "cell_type": "code",
   "execution_count": null,
   "id": "36b0ee65-8398-4e04-89b0-99b0b1645419",
   "metadata": {},
   "outputs": [],
   "source": [
    "def process_meeting(audio_file):\n",
    "    transcript = transcribe_audio(audio_file)\n",
    "    speakers = diarize_audio(audio_file)\n",
    "    decisions_actions_json = extract_decisions_actions(transcript)\n",
    "    \n",
    "    # Convert JSON string to dict\n",
    "    try:\n",
    "        decisions_actions = json.loads(decisions_actions_json)\n",
    "    except:\n",
    "        decisions_actions = {\"decisions\": [], \"action_items\": []}\n",
    "    \n",
    "    graph_html = build_cytoscape_html(decisions_actions)\n",
    "    return transcript, speakers, decisions_actions, graph_html\n"
   ]
  },
  {
   "cell_type": "code",
   "execution_count": null,
   "id": "53ba0ab1-ba28-4456-8818-3fdb303888e0",
   "metadata": {},
   "outputs": [],
   "source": [
    "cyto_style = [\n",
    "    {\n",
    "        \"selector\": \"node[type='decision']\",\n",
    "        \"style\": {\"background-color\": \"skyblue\", \"label\": \"data(label)\", \"font-size\": 12}\n",
    "    },\n",
    "    {\n",
    "        \"selector\": \"node[type='action_item']\",\n",
    "        \"style\": {\"background-color\": \"lightgreen\", \"label\": \"data(label)\", \"font-size\": 12}\n",
    "    },\n",
    "    {\n",
    "        \"selector\": \"edge\",\n",
    "        \"style\": {\"line-color\": \"#ccc\", \"target-arrow-shape\": \"triangle\"}\n",
    "    }\n",
    "]"
   ]
  },
  {
   "cell_type": "code",
   "execution_count": null,
   "id": "e8a03dd5-9759-4eb3-9715-141d25e4a0e4",
   "metadata": {},
   "outputs": [],
   "source": [
    "def build_cytoscape_html(data):\n",
    "    elements = []\n",
    "    for i, decision in enumerate(data.get(\"decisions\", [])):\n",
    "        elements.append({\"data\": {\"id\": f\"decision_{i}\", \"label\": decision}})\n",
    "    for j, action in enumerate(data.get(\"action_items\", [])):\n",
    "        elements.append({\"data\": {\"id\": f\"action_{j}\", \"label\": action}})\n",
    "        if data.get(\"decisions\"):\n",
    "            elements.append({\"data\": {\"source\": \"decision_0\", \"target\": f\"action_{j}\"}})\n",
    "    \n",
    "    # Convert to JSON string\n",
    "    elements_json = json.dumps(elements)\n",
    "    \n",
    "    html_code = f\"\"\"\n",
    "    <div id=\"cy\" style=\"width: 100%; height: 500px;\"></div>\n",
    "    <script src=\"https://cdnjs.cloudflare.com/ajax/libs/cytoscape/3.25.0/cytoscape.min.js\"></script>\n",
    "    <script>\n",
    "        var cy = cytoscape({{\n",
    "            container: document.getElementById('cy'),\n",
    "            elements: {elements_json},\n",
    "            style: [\n",
    "                {{ selector: 'node', style: {{ 'label': 'data(label)', 'background-color': '#60A5FA' }} }},\n",
    "                {{ selector: 'edge', style: {{ 'line-color': '#ccc', 'target-arrow-shape': 'triangle', 'width': 2 }} }}\n",
    "            ],\n",
    "            layout: {{ name: 'cose' }}\n",
    "        }});\n",
    "    </script>\n",
    "    \"\"\"\n",
    "    return html_code\n"
   ]
  },
  {
   "cell_type": "code",
   "execution_count": null,
   "id": "a5eed19a-3d1d-4452-bf29-8c73fb48b18e",
   "metadata": {},
   "outputs": [],
   "source": [
    "import gradio as gr\n",
    "\n",
    "# Custom CSS for styling\n",
    "custom_css = \"\"\"\n",
    "body {background-color: #f0f4f8; font-family: 'Arial', sans-serif;}\n",
    ".gradio-container {border-radius: 15px; padding: 20px; box-shadow: 0 10px 25px rgba(0,0,0,0.1);}\n",
    "h1 {color: #ff4b2b; text-align: center;}\n",
    ".gr-button {background-color: #ff4b2b; color: white; border-radius: 8px; padding: 10px 20px;}\n",
    ".gr-textbox, .gr-json, .gr-html {border-radius: 10px; padding: 10px; background-color: #ffffff;}\n",
    ".gr-textbox textarea {font-family: 'Courier New', monospace; font-size: 14px;}\n",
    "\"\"\"\n",
    "\n",
    "with gr.Blocks(css=custom_css, theme=gr.themes.Base()) as iface:\n",
    "    gr.Markdown(\"<h1>🚀 Smart Meeting Synthesizer</h1>\")\n",
    "    gr.Markdown(\"<p style='text-align:center;'>Upload your meeting audio to get transcripts, speaker info, decisions, and an interactive knowledge graph!</p>\")\n",
    "    \n",
    "    with gr.Column(scale=1):\n",
    "        audio_input = gr.Audio(type=\"filepath\", label=\"Upload Meeting Audio\")\n",
    "    with gr.Column(scale=2):\n",
    "        tabs = gr.Tabs()\n",
    "        with tabs:\n",
    "            with gr.TabItem(\"Transcript 📜\"):\n",
    "                transcript_output = gr.Textbox(label=\"Transcript\", lines=10)\n",
    "            with gr.TabItem(\"Speakers 🗣️\"):\n",
    "                speakers_output = gr.JSON(label=\"Speakers\")\n",
    "            with gr.TabItem(\"Decisions & Actions ✅\"):\n",
    "                actions_output = gr.JSON(label=\"Decisions & Action Items\")\n",
    "            with gr.TabItem(\"Knowledge Graph 🌐\"):\n",
    "                graph_output = gr.HTML(label=\"Knowledge Graph\")\n",
    "    \n",
    "    submit_btn = gr.Button(\"Process Meeting\", variant=\"primary\")\n",
    "    \n",
    "    submit_btn.click(\n",
    "        fn=process_meeting,\n",
    "        inputs=audio_input,\n",
    "        outputs=[transcript_output, speakers_output, actions_output, graph_output]\n",
    "    )\n",
    "\n",
    "iface.launch()\n"
   ]
  },
  {
   "cell_type": "code",
   "execution_count": null,
   "id": "7ba0d8b1-dbc8-48aa-a7da-9b8703f8d54f",
   "metadata": {},
   "outputs": [],
   "source": []
  }
 ],
 "metadata": {
  "kernelspec": {
   "display_name": "Python 3 (ipykernel)",
   "language": "python",
   "name": "python3"
  },
  "language_info": {
   "codemirror_mode": {
    "name": "ipython",
    "version": 3
   },
   "file_extension": ".py",
   "mimetype": "text/x-python",
   "name": "python",
   "nbconvert_exporter": "python",
   "pygments_lexer": "ipython3",
   "version": "3.11.13"
  }
 },
 "nbformat": 4,
 "nbformat_minor": 5
}
